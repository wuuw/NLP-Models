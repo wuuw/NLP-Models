{
 "cells": [
  {
   "cell_type": "code",
   "execution_count": 1,
   "metadata": {
    "scrolled": true
   },
   "outputs": [
    {
     "name": "stderr",
     "output_type": "stream",
     "text": [
      "Building prefix dict from the default dictionary ...\n",
      "Loading model from cache /tmp/jieba.cache\n",
      "Loading model cost 0.511 seconds.\n",
      "Prefix dict has been built succesfully.\n"
     ]
    }
   ],
   "source": [
    "import torch\n",
    "import torch.nn as nn\n",
    "import torch.nn.functional as F\n",
    "from torch.utils.data import TensorDataset, DataLoader\n",
    "from torch.nn.utils import clip_grad_norm_\n",
    "import numpy as np\n",
    "import pandas as pd\n",
    "import jieba\n",
    "from tqdm import tqdm\n",
    "from torchtext import data, datasets\n",
    "from torchsummary import summary\n",
    "from gensim.models import KeyedVectors\n",
    "\n",
    "jieba.load_userdict('../word2vec/500000-dict.txt')"
   ]
  },
  {
   "cell_type": "code",
   "execution_count": 2,
   "metadata": {},
   "outputs": [],
   "source": [
    "'''\n",
    "词典类，记录数据集中数显的词汇及其索引和数量\n",
    "'''\n",
    "class Dictionary:\n",
    "    def __init__(self):\n",
    "        self.word2idx = {}\n",
    "        self.idx2word = {}\n",
    "        self.word2count = {}\n",
    "        \n",
    "    def add_word(self, word):\n",
    "        # build word - count\n",
    "        if word not in self.word2count:\n",
    "            self.word2count[word] = 1\n",
    "        else:\n",
    "            self.word2count[word] += 1\n",
    "    \n",
    "    '''\n",
    "    仅使用训练集中出现次数 >= 阈值的词汇构建词表\n",
    "    '''\n",
    "    def cut_dict(self, cut=2):\n",
    "        self.word2idx = {'<PAD>':0, '<UNK>':1}\n",
    "        self.idx2word = {0:'<PAD>', 1:'<UNK>'}\n",
    "        word2count = {}\n",
    "        idx = 2\n",
    "        \n",
    "        for word in self.word2count.keys():\n",
    "            if self.word2count[word] >= cut:\n",
    "                self.word2idx[word] = idx\n",
    "                self.idx2word[idx] = word\n",
    "                idx += 1\n",
    "                word2count[word] = self.word2count[word]\n",
    "                \n",
    "        self.word2count = word2count\n",
    "        \n",
    "\n",
    "'''\n",
    "构建停止词表\n",
    "'''\n",
    "stop_words = []\n",
    "with open('../word2vec/stopwords.txt') as f:\n",
    "    for line in f:\n",
    "        stop_words.append(line.strip())"
   ]
  },
  {
   "cell_type": "code",
   "execution_count": 3,
   "metadata": {
    "scrolled": true
   },
   "outputs": [
    {
     "name": "stdout",
     "output_type": "stream",
     "text": [
      "数据集样本最小长度: 1\n",
      "数据集样本最大长度: 1275\n",
      "数据集样本平均长度: 26.0\n",
      "正样本数量: 31727\n",
      "负样本数量: 31046\n"
     ]
    }
   ],
   "source": [
    "'''\n",
    "对评论进行中文分词\n",
    "'''\n",
    "def seg(data_frame):\n",
    "    segs = jieba.cut(data_frame['review'], cut_all=False)\n",
    "    l = []\n",
    "    for seg in segs:\n",
    "        if seg not in stop_words and seg != ' ':\n",
    "            l.append(seg)\n",
    "    return l\n",
    "    \n",
    "df = pd.read_csv('../datasets/online_shopping_10_cats.csv')\n",
    "df = df[['label', 'review']].dropna().copy()  # 删除具有缺省的行\n",
    "\n",
    "df['review'] = df.apply(seg, axis=1)\n",
    "\n",
    "'''\n",
    "简单的样本数据统计\n",
    "'''\n",
    "length_list = [len(review) for review in df['review']]\n",
    "print('数据集样本最小长度: {}\\n'\n",
    "      '数据集样本最大长度: {}\\n'\n",
    "      '数据集样本平均长度: {:.1f}'\n",
    "      .format(min(length_list), max(length_list), sum(length_list)/len(length_list)))\n",
    "\n",
    "print('正样本数量: {}\\n'\n",
    "      '负样本数量: {}'\n",
    "      .format(len(df[df['label']==1]), len(df[df['label']==0])))"
   ]
  },
  {
   "cell_type": "code",
   "execution_count": 4,
   "metadata": {
    "scrolled": false
   },
   "outputs": [
    {
     "name": "stderr",
     "output_type": "stream",
     "text": [
      "/home/fivesheep/anaconda3/envs/Pytorch11-Py36/lib/python3.6/site-packages/smart_open/smart_open_lib.py:398: UserWarning: This function is deprecated, use smart_open.open instead. See the migration notes for details: https://github.com/RaRe-Technologies/smart_open/blob/master/README.rst#migrating-to-the-new-open-function\n",
      "  'See the migration notes for details: %s' % _MIGRATION_NOTES_URL\n"
     ]
    }
   ],
   "source": [
    "'''\n",
    "加载词向量\n",
    "'''\n",
    "vector = KeyedVectors.load_word2vec_format('../word2vec/500000-small.txt')"
   ]
  },
  {
   "cell_type": "code",
   "execution_count": 5,
   "metadata": {
    "scrolled": true
   },
   "outputs": [],
   "source": [
    "'''\n",
    "获取数据集字典\n",
    "'''\n",
    "\n",
    "dictionary = Dictionary()\n",
    "\n",
    "for review in df['review']:\n",
    "    for i, word in enumerate(review):\n",
    "        dictionary.add_word(word)\n",
    "        \n",
    "# 使用出现次数至少为 2 的词构建词典\n",
    "dictionary.cut_dict(2)"
   ]
  },
  {
   "cell_type": "code",
   "execution_count": 6,
   "metadata": {},
   "outputs": [
    {
     "name": "stdout",
     "output_type": "stream",
     "text": [
      "词汇总量为: 50201\n",
      "具有词向量的词汇量为: 47980\n",
      "占比为: 95.58%\n",
      "\n",
      "词汇总数为: 1585320\n",
      "具有词向量的词汇量为: 1567632\n",
      "占比为: 98.88%\n"
     ]
    }
   ],
   "source": [
    "'''\n",
    "对训数据中的词汇进行统计\n",
    "'''\n",
    "em_word = 0\n",
    "for word in dictionary.word2idx.keys():\n",
    "    if word in vector:\n",
    "        em_word += 1\n",
    "\n",
    "print('词汇总量为: {}'\n",
    "      '\\n具有词向量的词汇量为: {}'\n",
    "      '\\n占比为: {:.2f}%\\n'\n",
    "      .format(len(dictionary.word2idx), em_word, em_word/len(dictionary.word2idx)*100))\n",
    "\n",
    "'''\n",
    "对训练集中的词汇数进行统计\n",
    "'''\n",
    "# 按照词汇出现数量进行排序，大→小\n",
    "dict_list = [(key, value) for key, value in dictionary.word2count.items()]\n",
    "dict_list.sort(key=lambda x:x[1], reverse=True)\n",
    "\n",
    "# 统计词数总量和具有词向量的词汇量\n",
    "total_count = 0\n",
    "em_count = 0\n",
    "for d in dict_list:\n",
    "    total_count += d[1]\n",
    "    if d[0] in vector:\n",
    "        em_count += d[1]\n",
    "print('词汇总数为: {}'\n",
    "      '\\n具有词向量的词汇量为: {}'\n",
    "      '\\n占比为: {:.2f}%'\n",
    "      .format(total_count, em_count, em_count/total_count*100))"
   ]
  },
  {
   "cell_type": "code",
   "execution_count": 7,
   "metadata": {},
   "outputs": [],
   "source": [
    "'''\n",
    "构建训练集、测试集序列化数据\n",
    "'''\n",
    "EMBEDDING_DIM = 200\n",
    "# 词嵌入矩阵\n",
    "embedding_matrix = np.zeros((len(dictionary.word2idx), EMBEDDING_DIM), dtype=np.float32)\n",
    "\n",
    "# 依据 word2idx 的映射，为 embedding_matrix 填充词向量\n",
    "texts = []\n",
    "labels = []\n",
    "for review in df['review']:\n",
    "    text = []\n",
    "    for i, word in enumerate(review):\n",
    "        # 如果在字典中没有找到该词汇，设置为 1 即 <UNK>\n",
    "        embedding_index = dictionary.word2idx.get(word, 1)\n",
    "        text.append(embedding_index)\n",
    "        # 如果该词有预训练词向量，初始化\n",
    "        if word in vector:\n",
    "            embedding_matrix[embedding_index, :] = vector[word]\n",
    "    texts.append(text)\n",
    "\n",
    "# 构建词嵌入 Tensor\n",
    "embedding_matrix = torch.Tensor(embedding_matrix)\n",
    "\n",
    "\n",
    "for label in df['label']:\n",
    "    labels.append(label)\n",
    "    \n",
    "'''\n",
    "对数据集进行 padding/truncation 操作, pre / post\n",
    "'''\n",
    "FIXED_LENGTH = 25\n",
    "\n",
    "def pad_truncate(dataset, length=50, type='pre'):\n",
    "    fixed_texts = []\n",
    "    \n",
    "    for text in dataset:\n",
    "        fixed_text = []\n",
    "        \n",
    "        if len(text) < length:\n",
    "            fixed_text = text[:] + [0] * (length-len(text))\n",
    "        else:\n",
    "            if type == 'pre':  # 截取前面 length 个词\n",
    "                fixed_text = text[:length]\n",
    "            elif type == 'post':  # 截取后面 length 个词\n",
    "                fixed_text = text[-length:]\n",
    "                \n",
    "        fixed_texts.append(fixed_text)\n",
    "        \n",
    "    return fixed_texts\n",
    "\n",
    "texts = pad_truncate(texts, length=FIXED_LENGTH, type='pre')"
   ]
  },
  {
   "cell_type": "code",
   "execution_count": 8,
   "metadata": {},
   "outputs": [],
   "source": [
    "'''\n",
    "划分训练集、验证集(5000)\n",
    "'''\n",
    "np.random.seed(1)\n",
    "data_size = len(texts)\n",
    "indices = np.arange(data_size)\n",
    "np.random.shuffle(indices)\n",
    "\n",
    "# 训练集\n",
    "train_texts = np.array(texts)[indices[:-5000]]\n",
    "train_labels = np.array(labels)[indices[:-5000]]\n",
    "# 验证集\n",
    "val_texts = np.array(texts)[indices[-5000:]]\n",
    "val_labels = np.array(labels)[indices[-5000:]]\n",
    "\n",
    "train_x = torch.Tensor(train_texts).long()\n",
    "train_y = torch.Tensor(train_labels).long()\n",
    "val_x = torch.Tensor(val_texts).long()\n",
    "val_y = torch.Tensor(val_labels).long()"
   ]
  },
  {
   "cell_type": "code",
   "execution_count": 22,
   "metadata": {},
   "outputs": [],
   "source": [
    "'''\n",
    "TextCNN 模型\n",
    "'''\n",
    "    \n",
    "device = torch.device('cuda' if torch.cuda.is_available() else 'cpu')\n",
    "\n",
    "def create_embedding_layer(embedding_matrix, trainable=True):\n",
    "        vocab_size, embed_dim = embedding_matrix.size()\n",
    "        embed_layer = nn.Embedding(vocab_size, embed_dim)\n",
    "        embed_layer.load_state_dict({'weight': embedding_matrix})\n",
    "        embed_layer.weight.requires_grad = trainable\n",
    "        return embed_layer, vocab_size, embed_dim\n",
    "    \n",
    "class TextCNN(nn.Module):\n",
    "    def __init__(self, embedding_matrix):\n",
    "        super(TextCNN, self).__init__()\n",
    "        self.embed, self.vocab_size, self.embed_dim = create_embedding_layer(embedding_matrix, trainable=True)\n",
    "\n",
    "        self.conv1d_1 = nn.Conv1d(200, 100, 2) # 输入的 channels 为 embedding_dim\n",
    "        self.conv1d_2 = nn.Conv1d(200, 100, 3)\n",
    "        self.conv1d_3 = nn.Conv1d(200, 100, 4)\n",
    "        \n",
    "        nn.init.kaiming_normal_(self.conv1d_1.weight.data)\n",
    "        nn.init.kaiming_normal_(self.conv1d_2.weight.data)\n",
    "        nn.init.kaiming_normal_(self.conv1d_3.weight.data)\n",
    "        \n",
    "        self.relu = nn.ReLU()\n",
    "        \n",
    "        self.maxpool_1 = nn.AdaptiveMaxPool1d(1)\n",
    "        self.maxpool_2 = nn.AdaptiveMaxPool1d(1)\n",
    "        self.maxpool_3 = nn.AdaptiveMaxPool1d(1)\n",
    "        \n",
    "        self.dropout_1 = nn.Dropout(0.7)\n",
    "        self.fc_1 = nn.Linear(100*3, 32)\n",
    "        nn.init.kaiming_normal_(self.fc_1.weight.data)\n",
    "        \n",
    "        self.dropout_2 = nn.Dropout(0.7)\n",
    "        self.fc_2 = nn.Linear(32, 2)\n",
    "        nn.init.kaiming_normal_(self.fc_2.weight.data)\n",
    "        \n",
    "    def forward(self, x):\n",
    "        out = self.embed(x)\n",
    "        # (bs, sentence_len, embedding_dim) → (bs, embedding_dim, sentence_len)\n",
    "        out = out.permute([0, 2, 1])\n",
    "        \n",
    "        out_1 = self.conv1d_1(out)\n",
    "        out_2 = self.conv1d_2(out)\n",
    "        out_3 = self.conv1d_3(out)\n",
    "        # (bs, 64, sentence_len - filter_size + 1)\n",
    "        \n",
    "        out_1 = self.relu(out_1)\n",
    "        out_2 = self.relu(out_2)\n",
    "        out_3 = self.relu(out_3)\n",
    "        \n",
    "        # 在第 3 维度上取最大值 (bs, 64, 1)\n",
    "        out_1 = self.maxpool_1(out_1).squeeze(2)\n",
    "        out_2 = self.maxpool_2(out_2).squeeze(2)\n",
    "        out_3 = self.maxpool_3(out_3).squeeze(2)\n",
    "        \n",
    "        cat = torch.cat((out_1, out_2, out_3), dim=1)\n",
    "        \n",
    "        out = self.dropout_1(cat)\n",
    "        out = self.fc_1(out)\n",
    "        out = self.dropout_2(out)\n",
    "        out = self.fc_2(out)\n",
    "        return out"
   ]
  },
  {
   "cell_type": "code",
   "execution_count": 21,
   "metadata": {
    "scrolled": true
   },
   "outputs": [
    {
     "name": "stderr",
     "output_type": "stream",
     "text": [
      "51it [00:06,  9.35it/s]"
     ]
    },
    {
     "name": "stdout",
     "output_type": "stream",
     "text": [
      "Epoch: [1/5], 正在训练：[1600/57773] 个样本\n",
      "Val: 59.375%\n"
     ]
    },
    {
     "name": "stderr",
     "output_type": "stream",
     "text": [
      "101it [00:12,  9.02it/s]"
     ]
    },
    {
     "name": "stdout",
     "output_type": "stream",
     "text": [
      "Epoch: [1/5], 正在训练：[3200/57773] 个样本\n",
      "Val: 84.375%\n"
     ]
    },
    {
     "name": "stderr",
     "output_type": "stream",
     "text": [
      "151it [00:19,  6.95it/s]"
     ]
    },
    {
     "name": "stdout",
     "output_type": "stream",
     "text": [
      "Epoch: [1/5], 正在训练：[4800/57773] 个样本\n",
      "Val: 65.625%\n"
     ]
    },
    {
     "name": "stderr",
     "output_type": "stream",
     "text": [
      "201it [00:26,  8.89it/s]"
     ]
    },
    {
     "name": "stdout",
     "output_type": "stream",
     "text": [
      "Epoch: [1/5], 正在训练：[6400/57773] 个样本\n",
      "Val: 71.875%\n"
     ]
    },
    {
     "name": "stderr",
     "output_type": "stream",
     "text": [
      "251it [00:32,  8.03it/s]"
     ]
    },
    {
     "name": "stdout",
     "output_type": "stream",
     "text": [
      "Epoch: [1/5], 正在训练：[8000/57773] 个样本\n",
      "Val: 81.250%\n"
     ]
    },
    {
     "name": "stderr",
     "output_type": "stream",
     "text": [
      "301it [00:39,  8.99it/s]"
     ]
    },
    {
     "name": "stdout",
     "output_type": "stream",
     "text": [
      "Epoch: [1/5], 正在训练：[9600/57773] 个样本\n",
      "Val: 78.125%\n"
     ]
    },
    {
     "name": "stderr",
     "output_type": "stream",
     "text": [
      "351it [00:45,  6.42it/s]"
     ]
    },
    {
     "name": "stdout",
     "output_type": "stream",
     "text": [
      "Epoch: [1/5], 正在训练：[11200/57773] 个样本\n",
      "Val: 84.375%\n"
     ]
    },
    {
     "name": "stderr",
     "output_type": "stream",
     "text": [
      "401it [00:52,  7.23it/s]"
     ]
    },
    {
     "name": "stdout",
     "output_type": "stream",
     "text": [
      "Epoch: [1/5], 正在训练：[12800/57773] 个样本\n",
      "Val: 81.250%\n"
     ]
    },
    {
     "name": "stderr",
     "output_type": "stream",
     "text": [
      "451it [00:58,  8.98it/s]"
     ]
    },
    {
     "name": "stdout",
     "output_type": "stream",
     "text": [
      "Epoch: [1/5], 正在训练：[14400/57773] 个样本\n",
      "Val: 84.375%\n"
     ]
    },
    {
     "name": "stderr",
     "output_type": "stream",
     "text": [
      "501it [01:04,  6.42it/s]"
     ]
    },
    {
     "name": "stdout",
     "output_type": "stream",
     "text": [
      "Epoch: [1/5], 正在训练：[16000/57773] 个样本\n",
      "Val: 84.375%\n"
     ]
    },
    {
     "name": "stderr",
     "output_type": "stream",
     "text": [
      "552it [01:11, 10.07it/s]"
     ]
    },
    {
     "name": "stdout",
     "output_type": "stream",
     "text": [
      "Epoch: [1/5], 正在训练：[17600/57773] 个样本\n",
      "Val: 81.250%\n"
     ]
    },
    {
     "name": "stderr",
     "output_type": "stream",
     "text": [
      "601it [01:17,  9.01it/s]"
     ]
    },
    {
     "name": "stdout",
     "output_type": "stream",
     "text": [
      "Epoch: [1/5], 正在训练：[19200/57773] 个样本\n",
      "Val: 71.875%\n"
     ]
    },
    {
     "name": "stderr",
     "output_type": "stream",
     "text": [
      "651it [01:24,  6.47it/s]"
     ]
    },
    {
     "name": "stdout",
     "output_type": "stream",
     "text": [
      "Epoch: [1/5], 正在训练：[20800/57773] 个样本\n",
      "Val: 90.625%\n"
     ]
    },
    {
     "name": "stderr",
     "output_type": "stream",
     "text": [
      "701it [01:31,  6.30it/s]"
     ]
    },
    {
     "name": "stdout",
     "output_type": "stream",
     "text": [
      "Epoch: [1/5], 正在训练：[22400/57773] 个样本\n",
      "Val: 87.500%\n"
     ]
    },
    {
     "name": "stderr",
     "output_type": "stream",
     "text": [
      "751it [01:40,  6.43it/s]"
     ]
    },
    {
     "name": "stdout",
     "output_type": "stream",
     "text": [
      "Epoch: [1/5], 正在训练：[24000/57773] 个样本\n",
      "Val: 68.750%\n"
     ]
    },
    {
     "name": "stderr",
     "output_type": "stream",
     "text": [
      "801it [01:46,  8.48it/s]"
     ]
    },
    {
     "name": "stdout",
     "output_type": "stream",
     "text": [
      "Epoch: [1/5], 正在训练：[25600/57773] 个样本\n",
      "Val: 93.750%\n"
     ]
    },
    {
     "name": "stderr",
     "output_type": "stream",
     "text": [
      "851it [01:54,  6.11it/s]"
     ]
    },
    {
     "name": "stdout",
     "output_type": "stream",
     "text": [
      "Epoch: [1/5], 正在训练：[27200/57773] 个样本\n",
      "Val: 87.500%\n"
     ]
    },
    {
     "name": "stderr",
     "output_type": "stream",
     "text": [
      "901it [02:01,  7.54it/s]"
     ]
    },
    {
     "name": "stdout",
     "output_type": "stream",
     "text": [
      "Epoch: [1/5], 正在训练：[28800/57773] 个样本\n",
      "Val: 87.500%\n"
     ]
    },
    {
     "name": "stderr",
     "output_type": "stream",
     "text": [
      "951it [02:07,  8.47it/s]"
     ]
    },
    {
     "name": "stdout",
     "output_type": "stream",
     "text": [
      "Epoch: [1/5], 正在训练：[30400/57773] 个样本\n",
      "Val: 84.375%\n"
     ]
    },
    {
     "name": "stderr",
     "output_type": "stream",
     "text": [
      "1001it [02:13,  7.63it/s]"
     ]
    },
    {
     "name": "stdout",
     "output_type": "stream",
     "text": [
      "Epoch: [1/5], 正在训练：[32000/57773] 个样本\n",
      "Val: 93.750%\n"
     ]
    },
    {
     "name": "stderr",
     "output_type": "stream",
     "text": [
      "1051it [02:20,  7.35it/s]"
     ]
    },
    {
     "name": "stdout",
     "output_type": "stream",
     "text": [
      "Epoch: [1/5], 正在训练：[33600/57773] 个样本\n",
      "Val: 84.375%\n"
     ]
    },
    {
     "name": "stderr",
     "output_type": "stream",
     "text": [
      "1101it [02:27,  7.04it/s]"
     ]
    },
    {
     "name": "stdout",
     "output_type": "stream",
     "text": [
      "Epoch: [1/5], 正在训练：[35200/57773] 个样本\n",
      "Val: 84.375%\n"
     ]
    },
    {
     "name": "stderr",
     "output_type": "stream",
     "text": [
      "1150it [02:36,  5.31it/s]"
     ]
    },
    {
     "name": "stdout",
     "output_type": "stream",
     "text": [
      "Epoch: [1/5], 正在训练：[36800/57773] 个样本\n",
      "Val: 90.625%\n"
     ]
    },
    {
     "name": "stderr",
     "output_type": "stream",
     "text": [
      "1201it [02:44,  7.09it/s]"
     ]
    },
    {
     "name": "stdout",
     "output_type": "stream",
     "text": [
      "Epoch: [1/5], 正在训练：[38400/57773] 个样本\n",
      "Val: 87.500%\n"
     ]
    },
    {
     "name": "stderr",
     "output_type": "stream",
     "text": [
      "1251it [02:51,  6.65it/s]"
     ]
    },
    {
     "name": "stdout",
     "output_type": "stream",
     "text": [
      "Epoch: [1/5], 正在训练：[40000/57773] 个样本\n",
      "Val: 87.500%\n"
     ]
    },
    {
     "name": "stderr",
     "output_type": "stream",
     "text": [
      "1300it [02:59,  5.49it/s]"
     ]
    },
    {
     "name": "stdout",
     "output_type": "stream",
     "text": [
      "Epoch: [1/5], 正在训练：[41600/57773] 个样本\n",
      "Val: 90.625%\n"
     ]
    },
    {
     "name": "stderr",
     "output_type": "stream",
     "text": [
      "1350it [03:08,  5.09it/s]"
     ]
    },
    {
     "name": "stdout",
     "output_type": "stream",
     "text": [
      "Epoch: [1/5], 正在训练：[43200/57773] 个样本\n",
      "Val: 93.750%\n"
     ]
    },
    {
     "name": "stderr",
     "output_type": "stream",
     "text": [
      "1401it [03:18,  5.31it/s]"
     ]
    },
    {
     "name": "stdout",
     "output_type": "stream",
     "text": [
      "Epoch: [1/5], 正在训练：[44800/57773] 个样本\n",
      "Val: 87.500%\n"
     ]
    },
    {
     "name": "stderr",
     "output_type": "stream",
     "text": [
      "1451it [03:27,  6.63it/s]"
     ]
    },
    {
     "name": "stdout",
     "output_type": "stream",
     "text": [
      "Epoch: [1/5], 正在训练：[46400/57773] 个样本\n",
      "Val: 90.625%\n"
     ]
    },
    {
     "name": "stderr",
     "output_type": "stream",
     "text": [
      "1501it [03:34,  6.68it/s]"
     ]
    },
    {
     "name": "stdout",
     "output_type": "stream",
     "text": [
      "Epoch: [1/5], 正在训练：[48000/57773] 个样本\n",
      "Val: 78.125%\n"
     ]
    },
    {
     "name": "stderr",
     "output_type": "stream",
     "text": [
      "1550it [03:43,  6.14it/s]"
     ]
    },
    {
     "name": "stdout",
     "output_type": "stream",
     "text": [
      "Epoch: [1/5], 正在训练：[49600/57773] 个样本\n",
      "Val: 93.750%\n"
     ]
    },
    {
     "name": "stderr",
     "output_type": "stream",
     "text": [
      "1601it [03:51,  6.46it/s]"
     ]
    },
    {
     "name": "stdout",
     "output_type": "stream",
     "text": [
      "Epoch: [1/5], 正在训练：[51200/57773] 个样本\n",
      "Val: 81.250%\n"
     ]
    },
    {
     "name": "stderr",
     "output_type": "stream",
     "text": [
      "1651it [03:59,  5.33it/s]"
     ]
    },
    {
     "name": "stdout",
     "output_type": "stream",
     "text": [
      "Epoch: [1/5], 正在训练：[52800/57773] 个样本\n",
      "Val: 90.625%\n"
     ]
    },
    {
     "name": "stderr",
     "output_type": "stream",
     "text": [
      "1701it [04:07,  5.72it/s]"
     ]
    },
    {
     "name": "stdout",
     "output_type": "stream",
     "text": [
      "Epoch: [1/5], 正在训练：[54400/57773] 个样本\n",
      "Val: 93.750%\n"
     ]
    },
    {
     "name": "stderr",
     "output_type": "stream",
     "text": [
      "1751it [04:16,  5.30it/s]"
     ]
    },
    {
     "name": "stdout",
     "output_type": "stream",
     "text": [
      "Epoch: [1/5], 正在训练：[56000/57773] 个样本\n",
      "Val: 100.000%\n"
     ]
    },
    {
     "name": "stderr",
     "output_type": "stream",
     "text": [
      "1800it [04:25,  4.97it/s]"
     ]
    },
    {
     "name": "stdout",
     "output_type": "stream",
     "text": [
      "Epoch: [1/5], 正在训练：[57600/57773] 个样本\n",
      "Val: 100.000%\n"
     ]
    },
    {
     "name": "stderr",
     "output_type": "stream",
     "text": [
      "1806it [04:27,  5.35it/s]\n",
      "51it [00:09,  5.95it/s]"
     ]
    },
    {
     "name": "stdout",
     "output_type": "stream",
     "text": [
      "Epoch: [2/5], 正在训练：[1600/57773] 个样本\n",
      "Val: 87.500%\n"
     ]
    },
    {
     "name": "stderr",
     "output_type": "stream",
     "text": [
      "101it [00:18,  5.78it/s]"
     ]
    },
    {
     "name": "stdout",
     "output_type": "stream",
     "text": [
      "Epoch: [2/5], 正在训练：[3200/57773] 个样本\n",
      "Val: 84.375%\n"
     ]
    },
    {
     "name": "stderr",
     "output_type": "stream",
     "text": [
      "150it [00:27,  4.74it/s]"
     ]
    },
    {
     "name": "stdout",
     "output_type": "stream",
     "text": [
      "Epoch: [2/5], 正在训练：[4800/57773] 个样本\n",
      "Val: 96.875%\n"
     ]
    },
    {
     "name": "stderr",
     "output_type": "stream",
     "text": [
      "200it [00:37,  4.99it/s]"
     ]
    },
    {
     "name": "stdout",
     "output_type": "stream",
     "text": [
      "Epoch: [2/5], 正在训练：[6400/57773] 个样本\n",
      "Val: 93.750%\n"
     ]
    },
    {
     "name": "stderr",
     "output_type": "stream",
     "text": [
      "250it [00:46,  4.68it/s]"
     ]
    },
    {
     "name": "stdout",
     "output_type": "stream",
     "text": [
      "Epoch: [2/5], 正在训练：[8000/57773] 个样本\n",
      "Val: 81.250%\n"
     ]
    },
    {
     "name": "stderr",
     "output_type": "stream",
     "text": [
      "301it [00:55,  6.39it/s]"
     ]
    },
    {
     "name": "stdout",
     "output_type": "stream",
     "text": [
      "Epoch: [2/5], 正在训练：[9600/57773] 个样本\n",
      "Val: 87.500%\n"
     ]
    },
    {
     "name": "stderr",
     "output_type": "stream",
     "text": [
      "350it [01:03,  4.69it/s]"
     ]
    },
    {
     "name": "stdout",
     "output_type": "stream",
     "text": [
      "Epoch: [2/5], 正在训练：[11200/57773] 个样本\n",
      "Val: 93.750%\n"
     ]
    },
    {
     "name": "stderr",
     "output_type": "stream",
     "text": [
      "401it [01:11,  6.45it/s]"
     ]
    },
    {
     "name": "stdout",
     "output_type": "stream",
     "text": [
      "Epoch: [2/5], 正在训练：[12800/57773] 个样本\n",
      "Val: 100.000%\n"
     ]
    },
    {
     "name": "stderr",
     "output_type": "stream",
     "text": [
      "451it [01:21,  6.43it/s]"
     ]
    },
    {
     "name": "stdout",
     "output_type": "stream",
     "text": [
      "Epoch: [2/5], 正在训练：[14400/57773] 个样本\n",
      "Val: 90.625%\n"
     ]
    },
    {
     "name": "stderr",
     "output_type": "stream",
     "text": [
      "501it [01:29,  5.58it/s]"
     ]
    },
    {
     "name": "stdout",
     "output_type": "stream",
     "text": [
      "Epoch: [2/5], 正在训练：[16000/57773] 个样本\n",
      "Val: 90.625%\n"
     ]
    },
    {
     "name": "stderr",
     "output_type": "stream",
     "text": [
      "551it [01:37,  5.38it/s]"
     ]
    },
    {
     "name": "stdout",
     "output_type": "stream",
     "text": [
      "Epoch: [2/5], 正在训练：[17600/57773] 个样本\n",
      "Val: 93.750%\n"
     ]
    },
    {
     "name": "stderr",
     "output_type": "stream",
     "text": [
      "601it [01:46,  6.59it/s]"
     ]
    },
    {
     "name": "stdout",
     "output_type": "stream",
     "text": [
      "Epoch: [2/5], 正在训练：[19200/57773] 个样本\n",
      "Val: 90.625%\n"
     ]
    },
    {
     "name": "stderr",
     "output_type": "stream",
     "text": [
      "651it [01:54,  6.76it/s]"
     ]
    },
    {
     "name": "stdout",
     "output_type": "stream",
     "text": [
      "Epoch: [2/5], 正在训练：[20800/57773] 个样本\n",
      "Val: 96.875%\n"
     ]
    },
    {
     "name": "stderr",
     "output_type": "stream",
     "text": [
      "701it [02:02,  6.53it/s]"
     ]
    },
    {
     "name": "stdout",
     "output_type": "stream",
     "text": [
      "Epoch: [2/5], 正在训练：[22400/57773] 个样本\n",
      "Val: 87.500%\n"
     ]
    },
    {
     "name": "stderr",
     "output_type": "stream",
     "text": [
      "751it [02:10,  5.78it/s]"
     ]
    },
    {
     "name": "stdout",
     "output_type": "stream",
     "text": [
      "Epoch: [2/5], 正在训练：[24000/57773] 个样本\n",
      "Val: 96.875%\n"
     ]
    },
    {
     "name": "stderr",
     "output_type": "stream",
     "text": [
      "801it [02:18,  6.45it/s]"
     ]
    },
    {
     "name": "stdout",
     "output_type": "stream",
     "text": [
      "Epoch: [2/5], 正在训练：[25600/57773] 个样本\n",
      "Val: 93.750%\n"
     ]
    },
    {
     "name": "stderr",
     "output_type": "stream",
     "text": [
      "850it [02:27,  5.08it/s]"
     ]
    },
    {
     "name": "stdout",
     "output_type": "stream",
     "text": [
      "Epoch: [2/5], 正在训练：[27200/57773] 个样本\n",
      "Val: 81.250%\n"
     ]
    },
    {
     "name": "stderr",
     "output_type": "stream",
     "text": [
      "901it [02:35,  6.90it/s]"
     ]
    },
    {
     "name": "stdout",
     "output_type": "stream",
     "text": [
      "Epoch: [2/5], 正在训练：[28800/57773] 个样本\n",
      "Val: 90.625%\n"
     ]
    },
    {
     "name": "stderr",
     "output_type": "stream",
     "text": [
      "951it [02:43,  7.28it/s]"
     ]
    },
    {
     "name": "stdout",
     "output_type": "stream",
     "text": [
      "Epoch: [2/5], 正在训练：[30400/57773] 个样本\n",
      "Val: 93.750%\n"
     ]
    },
    {
     "name": "stderr",
     "output_type": "stream",
     "text": [
      "1001it [02:52,  5.13it/s]"
     ]
    },
    {
     "name": "stdout",
     "output_type": "stream",
     "text": [
      "Epoch: [2/5], 正在训练：[32000/57773] 个样本\n",
      "Val: 93.750%\n"
     ]
    },
    {
     "name": "stderr",
     "output_type": "stream",
     "text": [
      "1051it [03:01,  6.22it/s]"
     ]
    },
    {
     "name": "stdout",
     "output_type": "stream",
     "text": [
      "Epoch: [2/5], 正在训练：[33600/57773] 个样本\n",
      "Val: 90.625%\n"
     ]
    },
    {
     "name": "stderr",
     "output_type": "stream",
     "text": [
      "1101it [03:09,  5.98it/s]"
     ]
    },
    {
     "name": "stdout",
     "output_type": "stream",
     "text": [
      "Epoch: [2/5], 正在训练：[35200/57773] 个样本\n",
      "Val: 84.375%\n"
     ]
    },
    {
     "name": "stderr",
     "output_type": "stream",
     "text": [
      "1151it [03:18,  6.61it/s]"
     ]
    },
    {
     "name": "stdout",
     "output_type": "stream",
     "text": [
      "Epoch: [2/5], 正在训练：[36800/57773] 个样本\n",
      "Val: 87.500%\n"
     ]
    },
    {
     "name": "stderr",
     "output_type": "stream",
     "text": [
      "1200it [03:26,  5.09it/s]"
     ]
    },
    {
     "name": "stdout",
     "output_type": "stream",
     "text": [
      "Epoch: [2/5], 正在训练：[38400/57773] 个样本\n",
      "Val: 84.375%\n"
     ]
    },
    {
     "name": "stderr",
     "output_type": "stream",
     "text": [
      "1251it [03:34,  6.20it/s]"
     ]
    },
    {
     "name": "stdout",
     "output_type": "stream",
     "text": [
      "Epoch: [2/5], 正在训练：[40000/57773] 个样本\n",
      "Val: 93.750%\n"
     ]
    },
    {
     "name": "stderr",
     "output_type": "stream",
     "text": [
      "1300it [03:44,  5.04it/s]"
     ]
    },
    {
     "name": "stdout",
     "output_type": "stream",
     "text": [
      "Epoch: [2/5], 正在训练：[41600/57773] 个样本\n",
      "Val: 78.125%\n"
     ]
    },
    {
     "name": "stderr",
     "output_type": "stream",
     "text": [
      "1351it [03:53,  6.87it/s]"
     ]
    },
    {
     "name": "stdout",
     "output_type": "stream",
     "text": [
      "Epoch: [2/5], 正在训练：[43200/57773] 个样本\n",
      "Val: 93.750%\n"
     ]
    },
    {
     "name": "stderr",
     "output_type": "stream",
     "text": [
      "1400it [04:02,  4.21it/s]"
     ]
    },
    {
     "name": "stdout",
     "output_type": "stream",
     "text": [
      "Epoch: [2/5], 正在训练：[44800/57773] 个样本\n",
      "Val: 90.625%\n"
     ]
    },
    {
     "name": "stderr",
     "output_type": "stream",
     "text": [
      "1450it [04:13,  4.32it/s]"
     ]
    },
    {
     "name": "stdout",
     "output_type": "stream",
     "text": [
      "Epoch: [2/5], 正在训练：[46400/57773] 个样本\n",
      "Val: 93.750%\n"
     ]
    },
    {
     "name": "stderr",
     "output_type": "stream",
     "text": [
      "1500it [04:22,  5.02it/s]"
     ]
    },
    {
     "name": "stdout",
     "output_type": "stream",
     "text": [
      "Epoch: [2/5], 正在训练：[48000/57773] 个样本\n",
      "Val: 90.625%\n"
     ]
    },
    {
     "name": "stderr",
     "output_type": "stream",
     "text": [
      "1550it [04:32,  5.38it/s]"
     ]
    },
    {
     "name": "stdout",
     "output_type": "stream",
     "text": [
      "Epoch: [2/5], 正在训练：[49600/57773] 个样本\n",
      "Val: 87.500%\n"
     ]
    },
    {
     "name": "stderr",
     "output_type": "stream",
     "text": [
      "1601it [04:41,  7.11it/s]"
     ]
    },
    {
     "name": "stdout",
     "output_type": "stream",
     "text": [
      "Epoch: [2/5], 正在训练：[51200/57773] 个样本\n",
      "Val: 84.375%\n"
     ]
    },
    {
     "name": "stderr",
     "output_type": "stream",
     "text": [
      "1651it [04:48,  6.44it/s]"
     ]
    },
    {
     "name": "stdout",
     "output_type": "stream",
     "text": [
      "Epoch: [2/5], 正在训练：[52800/57773] 个样本\n",
      "Val: 87.500%\n"
     ]
    },
    {
     "name": "stderr",
     "output_type": "stream",
     "text": [
      "1700it [04:57,  6.15it/s]"
     ]
    },
    {
     "name": "stdout",
     "output_type": "stream",
     "text": [
      "Epoch: [2/5], 正在训练：[54400/57773] 个样本\n",
      "Val: 93.750%\n"
     ]
    },
    {
     "name": "stderr",
     "output_type": "stream",
     "text": [
      "1751it [05:04,  6.82it/s]"
     ]
    },
    {
     "name": "stdout",
     "output_type": "stream",
     "text": [
      "Epoch: [2/5], 正在训练：[56000/57773] 个样本\n",
      "Val: 93.750%\n"
     ]
    },
    {
     "name": "stderr",
     "output_type": "stream",
     "text": [
      "1801it [05:12,  6.56it/s]"
     ]
    },
    {
     "name": "stdout",
     "output_type": "stream",
     "text": [
      "Epoch: [2/5], 正在训练：[57600/57773] 个样本\n",
      "Val: 90.625%\n"
     ]
    },
    {
     "name": "stderr",
     "output_type": "stream",
     "text": [
      "1806it [05:13,  6.53it/s]\n",
      "51it [00:08,  6.01it/s]"
     ]
    },
    {
     "name": "stdout",
     "output_type": "stream",
     "text": [
      "Epoch: [3/5], 正在训练：[1600/57773] 个样本\n",
      "Val: 93.750%\n"
     ]
    },
    {
     "name": "stderr",
     "output_type": "stream",
     "text": [
      "101it [00:16,  6.52it/s]"
     ]
    },
    {
     "name": "stdout",
     "output_type": "stream",
     "text": [
      "Epoch: [3/5], 正在训练：[3200/57773] 个样本\n",
      "Val: 96.875%\n"
     ]
    },
    {
     "name": "stderr",
     "output_type": "stream",
     "text": [
      "151it [00:25,  5.88it/s]"
     ]
    },
    {
     "name": "stdout",
     "output_type": "stream",
     "text": [
      "Epoch: [3/5], 正在训练：[4800/57773] 个样本\n",
      "Val: 93.750%\n"
     ]
    },
    {
     "name": "stderr",
     "output_type": "stream",
     "text": [
      "200it [00:34,  5.70it/s]"
     ]
    },
    {
     "name": "stdout",
     "output_type": "stream",
     "text": [
      "Epoch: [3/5], 正在训练：[6400/57773] 个样本\n",
      "Val: 87.500%\n"
     ]
    },
    {
     "name": "stderr",
     "output_type": "stream",
     "text": [
      "250it [00:44,  4.57it/s]"
     ]
    },
    {
     "name": "stdout",
     "output_type": "stream",
     "text": [
      "Epoch: [3/5], 正在训练：[8000/57773] 个样本\n",
      "Val: 90.625%\n"
     ]
    },
    {
     "name": "stderr",
     "output_type": "stream",
     "text": [
      "300it [00:53,  4.61it/s]"
     ]
    },
    {
     "name": "stdout",
     "output_type": "stream",
     "text": [
      "Epoch: [3/5], 正在训练：[9600/57773] 个样本\n",
      "Val: 87.500%\n"
     ]
    },
    {
     "name": "stderr",
     "output_type": "stream",
     "text": [
      "350it [01:01,  5.43it/s]"
     ]
    },
    {
     "name": "stdout",
     "output_type": "stream",
     "text": [
      "Epoch: [3/5], 正在训练：[11200/57773] 个样本\n",
      "Val: 93.750%\n"
     ]
    },
    {
     "name": "stderr",
     "output_type": "stream",
     "text": [
      "401it [01:10,  5.67it/s]"
     ]
    },
    {
     "name": "stdout",
     "output_type": "stream",
     "text": [
      "Epoch: [3/5], 正在训练：[12800/57773] 个样本\n",
      "Val: 87.500%\n"
     ]
    },
    {
     "name": "stderr",
     "output_type": "stream",
     "text": [
      "450it [01:18,  5.85it/s]"
     ]
    },
    {
     "name": "stdout",
     "output_type": "stream",
     "text": [
      "Epoch: [3/5], 正在训练：[14400/57773] 个样本\n",
      "Val: 96.875%\n"
     ]
    },
    {
     "name": "stderr",
     "output_type": "stream",
     "text": [
      "501it [01:27,  6.11it/s]"
     ]
    },
    {
     "name": "stdout",
     "output_type": "stream",
     "text": [
      "Epoch: [3/5], 正在训练：[16000/57773] 个样本\n",
      "Val: 96.875%\n"
     ]
    },
    {
     "name": "stderr",
     "output_type": "stream",
     "text": [
      "550it [01:35,  5.49it/s]"
     ]
    },
    {
     "name": "stdout",
     "output_type": "stream",
     "text": [
      "Epoch: [3/5], 正在训练：[17600/57773] 个样本\n",
      "Val: 96.875%\n"
     ]
    },
    {
     "name": "stderr",
     "output_type": "stream",
     "text": [
      "601it [01:44,  5.20it/s]"
     ]
    },
    {
     "name": "stdout",
     "output_type": "stream",
     "text": [
      "Epoch: [3/5], 正在训练：[19200/57773] 个样本\n",
      "Val: 100.000%\n"
     ]
    },
    {
     "name": "stderr",
     "output_type": "stream",
     "text": [
      "651it [01:53,  6.47it/s]"
     ]
    },
    {
     "name": "stdout",
     "output_type": "stream",
     "text": [
      "Epoch: [3/5], 正在训练：[20800/57773] 个样本\n",
      "Val: 87.500%\n"
     ]
    },
    {
     "name": "stderr",
     "output_type": "stream",
     "text": [
      "700it [02:02,  4.74it/s]"
     ]
    },
    {
     "name": "stdout",
     "output_type": "stream",
     "text": [
      "Epoch: [3/5], 正在训练：[22400/57773] 个样本\n",
      "Val: 84.375%\n"
     ]
    },
    {
     "name": "stderr",
     "output_type": "stream",
     "text": [
      "751it [02:11,  6.51it/s]"
     ]
    },
    {
     "name": "stdout",
     "output_type": "stream",
     "text": [
      "Epoch: [3/5], 正在训练：[24000/57773] 个样本\n",
      "Val: 93.750%\n"
     ]
    },
    {
     "name": "stderr",
     "output_type": "stream",
     "text": [
      "800it [02:20,  4.91it/s]"
     ]
    },
    {
     "name": "stdout",
     "output_type": "stream",
     "text": [
      "Epoch: [3/5], 正在训练：[25600/57773] 个样本\n",
      "Val: 90.625%\n"
     ]
    },
    {
     "name": "stderr",
     "output_type": "stream",
     "text": [
      "850it [02:30,  5.30it/s]"
     ]
    },
    {
     "name": "stdout",
     "output_type": "stream",
     "text": [
      "Epoch: [3/5], 正在训练：[27200/57773] 个样本\n",
      "Val: 90.625%\n"
     ]
    },
    {
     "name": "stderr",
     "output_type": "stream",
     "text": [
      "900it [02:40,  4.82it/s]"
     ]
    },
    {
     "name": "stdout",
     "output_type": "stream",
     "text": [
      "Epoch: [3/5], 正在训练：[28800/57773] 个样本\n",
      "Val: 100.000%\n"
     ]
    },
    {
     "name": "stderr",
     "output_type": "stream",
     "text": [
      "951it [02:50,  6.25it/s]"
     ]
    },
    {
     "name": "stdout",
     "output_type": "stream",
     "text": [
      "Epoch: [3/5], 正在训练：[30400/57773] 个样本\n",
      "Val: 90.625%\n"
     ]
    },
    {
     "name": "stderr",
     "output_type": "stream",
     "text": [
      "1001it [02:58,  6.05it/s]"
     ]
    },
    {
     "name": "stdout",
     "output_type": "stream",
     "text": [
      "Epoch: [3/5], 正在训练：[32000/57773] 个样本\n",
      "Val: 96.875%\n"
     ]
    },
    {
     "name": "stderr",
     "output_type": "stream",
     "text": [
      "1050it [03:07,  4.87it/s]"
     ]
    },
    {
     "name": "stdout",
     "output_type": "stream",
     "text": [
      "Epoch: [3/5], 正在训练：[33600/57773] 个样本\n",
      "Val: 90.625%\n"
     ]
    },
    {
     "name": "stderr",
     "output_type": "stream",
     "text": [
      "1101it [03:17,  5.91it/s]"
     ]
    },
    {
     "name": "stdout",
     "output_type": "stream",
     "text": [
      "Epoch: [3/5], 正在训练：[35200/57773] 个样本\n",
      "Val: 90.625%\n"
     ]
    },
    {
     "name": "stderr",
     "output_type": "stream",
     "text": [
      "1151it [03:27,  4.90it/s]"
     ]
    },
    {
     "name": "stdout",
     "output_type": "stream",
     "text": [
      "Epoch: [3/5], 正在训练：[36800/57773] 个样本\n",
      "Val: 90.625%\n"
     ]
    },
    {
     "name": "stderr",
     "output_type": "stream",
     "text": [
      "1201it [03:36,  5.40it/s]"
     ]
    },
    {
     "name": "stdout",
     "output_type": "stream",
     "text": [
      "Epoch: [3/5], 正在训练：[38400/57773] 个样本\n",
      "Val: 90.625%\n"
     ]
    },
    {
     "name": "stderr",
     "output_type": "stream",
     "text": [
      "1251it [03:44,  6.30it/s]"
     ]
    },
    {
     "name": "stdout",
     "output_type": "stream",
     "text": [
      "Epoch: [3/5], 正在训练：[40000/57773] 个样本\n",
      "Val: 93.750%\n"
     ]
    },
    {
     "name": "stderr",
     "output_type": "stream",
     "text": [
      "1301it [03:52,  4.97it/s]"
     ]
    },
    {
     "name": "stdout",
     "output_type": "stream",
     "text": [
      "Epoch: [3/5], 正在训练：[41600/57773] 个样本\n",
      "Val: 90.625%\n"
     ]
    },
    {
     "name": "stderr",
     "output_type": "stream",
     "text": [
      "1351it [04:00,  6.05it/s]"
     ]
    },
    {
     "name": "stdout",
     "output_type": "stream",
     "text": [
      "Epoch: [3/5], 正在训练：[43200/57773] 个样本\n",
      "Val: 93.750%\n"
     ]
    },
    {
     "name": "stderr",
     "output_type": "stream",
     "text": [
      "1401it [04:09,  6.46it/s]"
     ]
    },
    {
     "name": "stdout",
     "output_type": "stream",
     "text": [
      "Epoch: [3/5], 正在训练：[44800/57773] 个样本\n",
      "Val: 90.625%\n"
     ]
    },
    {
     "name": "stderr",
     "output_type": "stream",
     "text": [
      "1450it [04:17,  6.50it/s]"
     ]
    },
    {
     "name": "stdout",
     "output_type": "stream",
     "text": [
      "Epoch: [3/5], 正在训练：[46400/57773] 个样本\n",
      "Val: 96.875%\n"
     ]
    },
    {
     "name": "stderr",
     "output_type": "stream",
     "text": [
      "1500it [04:26,  6.10it/s]"
     ]
    },
    {
     "name": "stdout",
     "output_type": "stream",
     "text": [
      "Epoch: [3/5], 正在训练：[48000/57773] 个样本\n",
      "Val: 87.500%\n"
     ]
    },
    {
     "name": "stderr",
     "output_type": "stream",
     "text": [
      "1551it [04:35,  6.35it/s]"
     ]
    },
    {
     "name": "stdout",
     "output_type": "stream",
     "text": [
      "Epoch: [3/5], 正在训练：[49600/57773] 个样本\n",
      "Val: 93.750%\n"
     ]
    },
    {
     "name": "stderr",
     "output_type": "stream",
     "text": [
      "1601it [04:43,  5.33it/s]"
     ]
    },
    {
     "name": "stdout",
     "output_type": "stream",
     "text": [
      "Epoch: [3/5], 正在训练：[51200/57773] 个样本\n",
      "Val: 100.000%\n"
     ]
    },
    {
     "name": "stderr",
     "output_type": "stream",
     "text": [
      "1651it [04:53,  5.27it/s]"
     ]
    },
    {
     "name": "stdout",
     "output_type": "stream",
     "text": [
      "Epoch: [3/5], 正在训练：[52800/57773] 个样本\n",
      "Val: 90.625%\n"
     ]
    },
    {
     "name": "stderr",
     "output_type": "stream",
     "text": [
      "1701it [05:01,  6.84it/s]"
     ]
    },
    {
     "name": "stdout",
     "output_type": "stream",
     "text": [
      "Epoch: [3/5], 正在训练：[54400/57773] 个样本\n",
      "Val: 84.375%\n"
     ]
    },
    {
     "name": "stderr",
     "output_type": "stream",
     "text": [
      "1751it [05:08,  6.78it/s]"
     ]
    },
    {
     "name": "stdout",
     "output_type": "stream",
     "text": [
      "Epoch: [3/5], 正在训练：[56000/57773] 个样本\n",
      "Val: 93.750%\n"
     ]
    },
    {
     "name": "stderr",
     "output_type": "stream",
     "text": [
      "1801it [05:18,  6.22it/s]"
     ]
    },
    {
     "name": "stdout",
     "output_type": "stream",
     "text": [
      "Epoch: [3/5], 正在训练：[57600/57773] 个样本\n",
      "Val: 90.625%\n"
     ]
    },
    {
     "name": "stderr",
     "output_type": "stream",
     "text": [
      "1806it [05:18,  6.61it/s]\n",
      "51it [00:08,  6.59it/s]"
     ]
    },
    {
     "name": "stdout",
     "output_type": "stream",
     "text": [
      "Epoch: [4/5], 正在训练：[1600/57773] 个样本\n",
      "Val: 93.750%\n"
     ]
    },
    {
     "name": "stderr",
     "output_type": "stream",
     "text": [
      "100it [00:18,  5.04it/s]"
     ]
    },
    {
     "name": "stdout",
     "output_type": "stream",
     "text": [
      "Epoch: [4/5], 正在训练：[3200/57773] 个样本\n",
      "Val: 96.875%\n"
     ]
    },
    {
     "name": "stderr",
     "output_type": "stream",
     "text": [
      "151it [00:29,  4.51it/s]"
     ]
    },
    {
     "name": "stdout",
     "output_type": "stream",
     "text": [
      "Epoch: [4/5], 正在训练：[4800/57773] 个样本\n",
      "Val: 93.750%\n"
     ]
    },
    {
     "name": "stderr",
     "output_type": "stream",
     "text": [
      "201it [00:40,  5.32it/s]"
     ]
    },
    {
     "name": "stdout",
     "output_type": "stream",
     "text": [
      "Epoch: [4/5], 正在训练：[6400/57773] 个样本\n",
      "Val: 93.750%\n"
     ]
    },
    {
     "name": "stderr",
     "output_type": "stream",
     "text": [
      "250it [00:51,  5.02it/s]"
     ]
    },
    {
     "name": "stdout",
     "output_type": "stream",
     "text": [
      "Epoch: [4/5], 正在训练：[8000/57773] 个样本\n",
      "Val: 96.875%\n"
     ]
    },
    {
     "name": "stderr",
     "output_type": "stream",
     "text": [
      "300it [01:00,  4.11it/s]"
     ]
    },
    {
     "name": "stdout",
     "output_type": "stream",
     "text": [
      "Epoch: [4/5], 正在训练：[9600/57773] 个样本\n",
      "Val: 93.750%\n"
     ]
    },
    {
     "name": "stderr",
     "output_type": "stream",
     "text": [
      "350it [01:09,  5.52it/s]"
     ]
    },
    {
     "name": "stdout",
     "output_type": "stream",
     "text": [
      "Epoch: [4/5], 正在训练：[11200/57773] 个样本\n",
      "Val: 90.625%\n"
     ]
    },
    {
     "name": "stderr",
     "output_type": "stream",
     "text": [
      "401it [01:20,  5.56it/s]"
     ]
    },
    {
     "name": "stdout",
     "output_type": "stream",
     "text": [
      "Epoch: [4/5], 正在训练：[12800/57773] 个样本\n",
      "Val: 93.750%\n"
     ]
    },
    {
     "name": "stderr",
     "output_type": "stream",
     "text": [
      "451it [01:28,  5.66it/s]"
     ]
    },
    {
     "name": "stdout",
     "output_type": "stream",
     "text": [
      "Epoch: [4/5], 正在训练：[14400/57773] 个样本\n",
      "Val: 93.750%\n"
     ]
    },
    {
     "name": "stderr",
     "output_type": "stream",
     "text": [
      "500it [01:38,  4.28it/s]"
     ]
    },
    {
     "name": "stdout",
     "output_type": "stream",
     "text": [
      "Epoch: [4/5], 正在训练：[16000/57773] 个样本\n",
      "Val: 93.750%\n"
     ]
    },
    {
     "name": "stderr",
     "output_type": "stream",
     "text": [
      "551it [01:48,  5.68it/s]"
     ]
    },
    {
     "name": "stdout",
     "output_type": "stream",
     "text": [
      "Epoch: [4/5], 正在训练：[17600/57773] 个样本\n",
      "Val: 93.750%\n"
     ]
    },
    {
     "name": "stderr",
     "output_type": "stream",
     "text": [
      "601it [01:57,  6.23it/s]"
     ]
    },
    {
     "name": "stdout",
     "output_type": "stream",
     "text": [
      "Epoch: [4/5], 正在训练：[19200/57773] 个样本\n",
      "Val: 90.625%\n"
     ]
    },
    {
     "name": "stderr",
     "output_type": "stream",
     "text": [
      "651it [02:04,  6.98it/s]"
     ]
    },
    {
     "name": "stdout",
     "output_type": "stream",
     "text": [
      "Epoch: [4/5], 正在训练：[20800/57773] 个样本\n",
      "Val: 93.750%\n"
     ]
    },
    {
     "name": "stderr",
     "output_type": "stream",
     "text": [
      "701it [02:12,  6.61it/s]"
     ]
    },
    {
     "name": "stdout",
     "output_type": "stream",
     "text": [
      "Epoch: [4/5], 正在训练：[22400/57773] 个样本\n",
      "Val: 84.375%\n"
     ]
    },
    {
     "name": "stderr",
     "output_type": "stream",
     "text": [
      "750it [02:21,  5.38it/s]"
     ]
    },
    {
     "name": "stdout",
     "output_type": "stream",
     "text": [
      "Epoch: [4/5], 正在训练：[24000/57773] 个样本\n",
      "Val: 93.750%\n"
     ]
    },
    {
     "name": "stderr",
     "output_type": "stream",
     "text": [
      "800it [02:30,  5.18it/s]"
     ]
    },
    {
     "name": "stdout",
     "output_type": "stream",
     "text": [
      "Epoch: [4/5], 正在训练：[25600/57773] 个样本\n",
      "Val: 96.875%\n"
     ]
    },
    {
     "name": "stderr",
     "output_type": "stream",
     "text": [
      "850it [02:40,  5.33it/s]"
     ]
    },
    {
     "name": "stdout",
     "output_type": "stream",
     "text": [
      "Epoch: [4/5], 正在训练：[27200/57773] 个样本\n",
      "Val: 84.375%\n"
     ]
    },
    {
     "name": "stderr",
     "output_type": "stream",
     "text": [
      "901it [02:48,  6.80it/s]"
     ]
    },
    {
     "name": "stdout",
     "output_type": "stream",
     "text": [
      "Epoch: [4/5], 正在训练：[28800/57773] 个样本\n",
      "Val: 96.875%\n"
     ]
    },
    {
     "name": "stderr",
     "output_type": "stream",
     "text": [
      "950it [02:56,  5.27it/s]"
     ]
    },
    {
     "name": "stdout",
     "output_type": "stream",
     "text": [
      "Epoch: [4/5], 正在训练：[30400/57773] 个样本\n",
      "Val: 96.875%\n"
     ]
    },
    {
     "name": "stderr",
     "output_type": "stream",
     "text": [
      "1000it [03:06,  6.77it/s]"
     ]
    },
    {
     "name": "stdout",
     "output_type": "stream",
     "text": [
      "Epoch: [4/5], 正在训练：[32000/57773] 个样本\n",
      "Val: 84.375%\n"
     ]
    },
    {
     "name": "stderr",
     "output_type": "stream",
     "text": [
      "1051it [03:14,  5.14it/s]"
     ]
    },
    {
     "name": "stdout",
     "output_type": "stream",
     "text": [
      "Epoch: [4/5], 正在训练：[33600/57773] 个样本\n",
      "Val: 90.625%\n"
     ]
    },
    {
     "name": "stderr",
     "output_type": "stream",
     "text": [
      "1101it [03:23,  6.34it/s]"
     ]
    },
    {
     "name": "stdout",
     "output_type": "stream",
     "text": [
      "Epoch: [4/5], 正在训练：[35200/57773] 个样本\n",
      "Val: 90.625%\n"
     ]
    },
    {
     "name": "stderr",
     "output_type": "stream",
     "text": [
      "1151it [03:32,  6.51it/s]"
     ]
    },
    {
     "name": "stdout",
     "output_type": "stream",
     "text": [
      "Epoch: [4/5], 正在训练：[36800/57773] 个样本\n",
      "Val: 93.750%\n"
     ]
    },
    {
     "name": "stderr",
     "output_type": "stream",
     "text": [
      "1201it [03:42,  5.57it/s]"
     ]
    },
    {
     "name": "stdout",
     "output_type": "stream",
     "text": [
      "Epoch: [4/5], 正在训练：[38400/57773] 个样本\n",
      "Val: 96.875%\n"
     ]
    },
    {
     "name": "stderr",
     "output_type": "stream",
     "text": [
      "1251it [03:50,  5.79it/s]"
     ]
    },
    {
     "name": "stdout",
     "output_type": "stream",
     "text": [
      "Epoch: [4/5], 正在训练：[40000/57773] 个样本\n",
      "Val: 93.750%\n"
     ]
    },
    {
     "name": "stderr",
     "output_type": "stream",
     "text": [
      "1301it [03:58,  6.57it/s]"
     ]
    },
    {
     "name": "stdout",
     "output_type": "stream",
     "text": [
      "Epoch: [4/5], 正在训练：[41600/57773] 个样本\n",
      "Val: 96.875%\n"
     ]
    },
    {
     "name": "stderr",
     "output_type": "stream",
     "text": [
      "1351it [04:07,  5.88it/s]"
     ]
    },
    {
     "name": "stdout",
     "output_type": "stream",
     "text": [
      "Epoch: [4/5], 正在训练：[43200/57773] 个样本\n",
      "Val: 93.750%\n"
     ]
    },
    {
     "name": "stderr",
     "output_type": "stream",
     "text": [
      "1401it [04:16,  5.91it/s]"
     ]
    },
    {
     "name": "stdout",
     "output_type": "stream",
     "text": [
      "Epoch: [4/5], 正在训练：[44800/57773] 个样本\n",
      "Val: 100.000%\n"
     ]
    },
    {
     "name": "stderr",
     "output_type": "stream",
     "text": [
      "1451it [04:26,  5.80it/s]"
     ]
    },
    {
     "name": "stdout",
     "output_type": "stream",
     "text": [
      "Epoch: [4/5], 正在训练：[46400/57773] 个样本\n",
      "Val: 87.500%\n"
     ]
    },
    {
     "name": "stderr",
     "output_type": "stream",
     "text": [
      "1501it [04:34,  7.23it/s]"
     ]
    },
    {
     "name": "stdout",
     "output_type": "stream",
     "text": [
      "Epoch: [4/5], 正在训练：[48000/57773] 个样本\n",
      "Val: 84.375%\n"
     ]
    },
    {
     "name": "stderr",
     "output_type": "stream",
     "text": [
      "1551it [04:42,  5.26it/s]"
     ]
    },
    {
     "name": "stdout",
     "output_type": "stream",
     "text": [
      "Epoch: [4/5], 正在训练：[49600/57773] 个样本\n",
      "Val: 87.500%\n"
     ]
    },
    {
     "name": "stderr",
     "output_type": "stream",
     "text": [
      "1600it [04:51,  4.95it/s]"
     ]
    },
    {
     "name": "stdout",
     "output_type": "stream",
     "text": [
      "Epoch: [4/5], 正在训练：[51200/57773] 个样本\n",
      "Val: 93.750%\n"
     ]
    },
    {
     "name": "stderr",
     "output_type": "stream",
     "text": [
      "1651it [05:01,  5.05it/s]"
     ]
    },
    {
     "name": "stdout",
     "output_type": "stream",
     "text": [
      "Epoch: [4/5], 正在训练：[52800/57773] 个样本\n",
      "Val: 93.750%\n"
     ]
    },
    {
     "name": "stderr",
     "output_type": "stream",
     "text": [
      "1701it [05:09,  6.71it/s]"
     ]
    },
    {
     "name": "stdout",
     "output_type": "stream",
     "text": [
      "Epoch: [4/5], 正在训练：[54400/57773] 个样本\n",
      "Val: 90.625%\n"
     ]
    },
    {
     "name": "stderr",
     "output_type": "stream",
     "text": [
      "1750it [05:16,  5.00it/s]"
     ]
    },
    {
     "name": "stdout",
     "output_type": "stream",
     "text": [
      "Epoch: [4/5], 正在训练：[56000/57773] 个样本\n",
      "Val: 90.625%\n"
     ]
    },
    {
     "name": "stderr",
     "output_type": "stream",
     "text": [
      "1801it [05:27,  6.18it/s]"
     ]
    },
    {
     "name": "stdout",
     "output_type": "stream",
     "text": [
      "Epoch: [4/5], 正在训练：[57600/57773] 个样本\n",
      "Val: 96.875%\n"
     ]
    },
    {
     "name": "stderr",
     "output_type": "stream",
     "text": [
      "1806it [05:28,  5.17it/s]\n",
      "51it [00:09,  7.33it/s]"
     ]
    },
    {
     "name": "stdout",
     "output_type": "stream",
     "text": [
      "Epoch: [5/5], 正在训练：[1600/57773] 个样本\n",
      "Val: 96.875%\n"
     ]
    },
    {
     "name": "stderr",
     "output_type": "stream",
     "text": [
      "100it [00:18,  4.50it/s]"
     ]
    },
    {
     "name": "stdout",
     "output_type": "stream",
     "text": [
      "Epoch: [5/5], 正在训练：[3200/57773] 个样本\n",
      "Val: 100.000%\n"
     ]
    },
    {
     "name": "stderr",
     "output_type": "stream",
     "text": [
      "151it [00:26,  5.80it/s]"
     ]
    },
    {
     "name": "stdout",
     "output_type": "stream",
     "text": [
      "Epoch: [5/5], 正在训练：[4800/57773] 个样本\n",
      "Val: 96.875%\n"
     ]
    },
    {
     "name": "stderr",
     "output_type": "stream",
     "text": [
      "201it [00:35,  5.68it/s]"
     ]
    },
    {
     "name": "stdout",
     "output_type": "stream",
     "text": [
      "Epoch: [5/5], 正在训练：[6400/57773] 个样本\n",
      "Val: 100.000%\n"
     ]
    },
    {
     "name": "stderr",
     "output_type": "stream",
     "text": [
      "251it [00:43,  6.52it/s]"
     ]
    },
    {
     "name": "stdout",
     "output_type": "stream",
     "text": [
      "Epoch: [5/5], 正在训练：[8000/57773] 个样本\n",
      "Val: 93.750%\n"
     ]
    },
    {
     "name": "stderr",
     "output_type": "stream",
     "text": [
      "300it [00:52,  4.51it/s]"
     ]
    },
    {
     "name": "stdout",
     "output_type": "stream",
     "text": [
      "Epoch: [5/5], 正在训练：[9600/57773] 个样本\n",
      "Val: 96.875%\n"
     ]
    },
    {
     "name": "stderr",
     "output_type": "stream",
     "text": [
      "351it [01:01,  5.45it/s]"
     ]
    },
    {
     "name": "stdout",
     "output_type": "stream",
     "text": [
      "Epoch: [5/5], 正在训练：[11200/57773] 个样本\n",
      "Val: 96.875%\n"
     ]
    },
    {
     "name": "stderr",
     "output_type": "stream",
     "text": [
      "400it [01:10,  4.75it/s]"
     ]
    },
    {
     "name": "stdout",
     "output_type": "stream",
     "text": [
      "Epoch: [5/5], 正在训练：[12800/57773] 个样本\n",
      "Val: 96.875%\n"
     ]
    },
    {
     "name": "stderr",
     "output_type": "stream",
     "text": [
      "450it [01:18,  5.02it/s]"
     ]
    },
    {
     "name": "stdout",
     "output_type": "stream",
     "text": [
      "Epoch: [5/5], 正在训练：[14400/57773] 个样本\n",
      "Val: 96.875%\n"
     ]
    },
    {
     "name": "stderr",
     "output_type": "stream",
     "text": [
      "500it [01:28,  5.01it/s]"
     ]
    },
    {
     "name": "stdout",
     "output_type": "stream",
     "text": [
      "Epoch: [5/5], 正在训练：[16000/57773] 个样本\n",
      "Val: 96.875%\n"
     ]
    },
    {
     "name": "stderr",
     "output_type": "stream",
     "text": [
      "550it [01:38,  4.62it/s]"
     ]
    },
    {
     "name": "stdout",
     "output_type": "stream",
     "text": [
      "Epoch: [5/5], 正在训练：[17600/57773] 个样本\n",
      "Val: 100.000%\n"
     ]
    },
    {
     "name": "stderr",
     "output_type": "stream",
     "text": [
      "601it [01:47,  4.90it/s]"
     ]
    },
    {
     "name": "stdout",
     "output_type": "stream",
     "text": [
      "Epoch: [5/5], 正在训练：[19200/57773] 个样本\n",
      "Val: 90.625%\n"
     ]
    },
    {
     "name": "stderr",
     "output_type": "stream",
     "text": [
      "651it [01:58,  5.49it/s]"
     ]
    },
    {
     "name": "stdout",
     "output_type": "stream",
     "text": [
      "Epoch: [5/5], 正在训练：[20800/57773] 个样本\n",
      "Val: 93.750%\n"
     ]
    },
    {
     "name": "stderr",
     "output_type": "stream",
     "text": [
      "700it [02:07,  5.00it/s]"
     ]
    },
    {
     "name": "stdout",
     "output_type": "stream",
     "text": [
      "Epoch: [5/5], 正在训练：[22400/57773] 个样本\n",
      "Val: 96.875%\n"
     ]
    },
    {
     "name": "stderr",
     "output_type": "stream",
     "text": [
      "751it [02:16,  6.31it/s]"
     ]
    },
    {
     "name": "stdout",
     "output_type": "stream",
     "text": [
      "Epoch: [5/5], 正在训练：[24000/57773] 个样本\n",
      "Val: 93.750%\n"
     ]
    },
    {
     "name": "stderr",
     "output_type": "stream",
     "text": [
      "800it [02:25,  5.32it/s]"
     ]
    },
    {
     "name": "stdout",
     "output_type": "stream",
     "text": [
      "Epoch: [5/5], 正在训练：[25600/57773] 个样本\n",
      "Val: 96.875%\n"
     ]
    },
    {
     "name": "stderr",
     "output_type": "stream",
     "text": [
      "850it [02:38,  4.13it/s]"
     ]
    },
    {
     "name": "stdout",
     "output_type": "stream",
     "text": [
      "Epoch: [5/5], 正在训练：[27200/57773] 个样本\n",
      "Val: 96.875%\n"
     ]
    },
    {
     "name": "stderr",
     "output_type": "stream",
     "text": [
      "900it [02:48,  5.09it/s]"
     ]
    },
    {
     "name": "stdout",
     "output_type": "stream",
     "text": [
      "Epoch: [5/5], 正在训练：[28800/57773] 个样本\n",
      "Val: 87.500%\n"
     ]
    },
    {
     "name": "stderr",
     "output_type": "stream",
     "text": [
      "950it [02:59,  4.23it/s]"
     ]
    },
    {
     "name": "stdout",
     "output_type": "stream",
     "text": [
      "Epoch: [5/5], 正在训练：[30400/57773] 个样本\n",
      "Val: 93.750%\n"
     ]
    },
    {
     "name": "stderr",
     "output_type": "stream",
     "text": [
      "1000it [03:10,  4.36it/s]"
     ]
    },
    {
     "name": "stdout",
     "output_type": "stream",
     "text": [
      "Epoch: [5/5], 正在训练：[32000/57773] 个样本\n",
      "Val: 100.000%\n"
     ]
    },
    {
     "name": "stderr",
     "output_type": "stream",
     "text": [
      "1050it [03:22,  4.59it/s]"
     ]
    },
    {
     "name": "stdout",
     "output_type": "stream",
     "text": [
      "Epoch: [5/5], 正在训练：[33600/57773] 个样本\n",
      "Val: 96.875%\n"
     ]
    },
    {
     "name": "stderr",
     "output_type": "stream",
     "text": [
      "1100it [03:34,  4.13it/s]"
     ]
    },
    {
     "name": "stdout",
     "output_type": "stream",
     "text": [
      "Epoch: [5/5], 正在训练：[35200/57773] 个样本\n",
      "Val: 93.750%\n"
     ]
    },
    {
     "name": "stderr",
     "output_type": "stream",
     "text": [
      "1150it [03:46,  4.21it/s]"
     ]
    },
    {
     "name": "stdout",
     "output_type": "stream",
     "text": [
      "Epoch: [5/5], 正在训练：[36800/57773] 个样本\n",
      "Val: 96.875%\n"
     ]
    },
    {
     "name": "stderr",
     "output_type": "stream",
     "text": [
      "1201it [03:57,  4.93it/s]"
     ]
    },
    {
     "name": "stdout",
     "output_type": "stream",
     "text": [
      "Epoch: [5/5], 正在训练：[38400/57773] 个样本\n",
      "Val: 90.625%\n"
     ]
    },
    {
     "name": "stderr",
     "output_type": "stream",
     "text": [
      "1250it [04:08,  4.46it/s]"
     ]
    },
    {
     "name": "stdout",
     "output_type": "stream",
     "text": [
      "Epoch: [5/5], 正在训练：[40000/57773] 个样本\n",
      "Val: 96.875%\n"
     ]
    },
    {
     "name": "stderr",
     "output_type": "stream",
     "text": [
      "1301it [04:19,  6.56it/s]"
     ]
    },
    {
     "name": "stdout",
     "output_type": "stream",
     "text": [
      "Epoch: [5/5], 正在训练：[41600/57773] 个样本\n",
      "Val: 100.000%\n"
     ]
    },
    {
     "name": "stderr",
     "output_type": "stream",
     "text": [
      "1351it [04:28,  5.16it/s]"
     ]
    },
    {
     "name": "stdout",
     "output_type": "stream",
     "text": [
      "Epoch: [5/5], 正在训练：[43200/57773] 个样本\n",
      "Val: 96.875%\n"
     ]
    },
    {
     "name": "stderr",
     "output_type": "stream",
     "text": [
      "1401it [04:36,  5.20it/s]"
     ]
    },
    {
     "name": "stdout",
     "output_type": "stream",
     "text": [
      "Epoch: [5/5], 正在训练：[44800/57773] 个样本\n",
      "Val: 96.875%\n"
     ]
    },
    {
     "name": "stderr",
     "output_type": "stream",
     "text": [
      "1451it [04:45,  6.52it/s]"
     ]
    },
    {
     "name": "stdout",
     "output_type": "stream",
     "text": [
      "Epoch: [5/5], 正在训练：[46400/57773] 个样本\n",
      "Val: 100.000%\n"
     ]
    },
    {
     "name": "stderr",
     "output_type": "stream",
     "text": [
      "1500it [04:55,  4.99it/s]"
     ]
    },
    {
     "name": "stdout",
     "output_type": "stream",
     "text": [
      "Epoch: [5/5], 正在训练：[48000/57773] 个样本\n",
      "Val: 96.875%\n"
     ]
    },
    {
     "name": "stderr",
     "output_type": "stream",
     "text": [
      "1550it [05:05,  4.75it/s]"
     ]
    },
    {
     "name": "stdout",
     "output_type": "stream",
     "text": [
      "Epoch: [5/5], 正在训练：[49600/57773] 个样本\n",
      "Val: 87.500%\n"
     ]
    },
    {
     "name": "stderr",
     "output_type": "stream",
     "text": [
      "1600it [05:13,  5.69it/s]"
     ]
    },
    {
     "name": "stdout",
     "output_type": "stream",
     "text": [
      "Epoch: [5/5], 正在训练：[51200/57773] 个样本\n",
      "Val: 93.750%\n"
     ]
    },
    {
     "name": "stderr",
     "output_type": "stream",
     "text": [
      "1651it [05:21,  6.21it/s]"
     ]
    },
    {
     "name": "stdout",
     "output_type": "stream",
     "text": [
      "Epoch: [5/5], 正在训练：[52800/57773] 个样本\n",
      "Val: 90.625%\n"
     ]
    },
    {
     "name": "stderr",
     "output_type": "stream",
     "text": [
      "1701it [05:29,  6.44it/s]"
     ]
    },
    {
     "name": "stdout",
     "output_type": "stream",
     "text": [
      "Epoch: [5/5], 正在训练：[54400/57773] 个样本\n",
      "Val: 100.000%\n"
     ]
    },
    {
     "name": "stderr",
     "output_type": "stream",
     "text": [
      "1750it [05:38,  4.77it/s]"
     ]
    },
    {
     "name": "stdout",
     "output_type": "stream",
     "text": [
      "Epoch: [5/5], 正在训练：[56000/57773] 个样本\n",
      "Val: 93.750%\n"
     ]
    },
    {
     "name": "stderr",
     "output_type": "stream",
     "text": [
      "1801it [05:47,  5.71it/s]"
     ]
    },
    {
     "name": "stdout",
     "output_type": "stream",
     "text": [
      "Epoch: [5/5], 正在训练：[57600/57773] 个样本\n",
      "Val: 93.750%\n"
     ]
    },
    {
     "name": "stderr",
     "output_type": "stream",
     "text": [
      "1806it [05:48,  6.49it/s]\n"
     ]
    }
   ],
   "source": [
    "'''\n",
    "手动进行 SGD 训练\n",
    "'''\n",
    "# hyperparameters\n",
    "batch_size = 32\n",
    "epochs = 5\n",
    "learning_rate = 0.0003\n",
    "\n",
    "'''\n",
    "使用 TensorDataset 和 DataLoader 存放数据集\n",
    "'''\n",
    "# 加载为 TensorDataset 对象\n",
    "train_ds = TensorDataset(train_x, train_y)\n",
    "val_ds = TensorDataset(val_x, val_y)\n",
    "\n",
    "# 加载为 DataLoader 对象\n",
    "train_dl = DataLoader(train_ds, batch_size=batch_size, shuffle=True)\n",
    "val_dl = DataLoader(val_ds, batch_size=len(val_ds), shuffle=False)\n",
    "\n",
    "# initialize Model\n",
    "model = TextCNN(embedding_matrix).to(device)\n",
    "\n",
    "# Loss and optimizer\n",
    "criterion = nn.CrossEntropyLoss()\n",
    "optimizer = torch.optim.Adam(model.parameters(), lr=learning_rate)\n",
    "\n",
    "# fit\n",
    "for epoch in range(epochs):\n",
    "    model.train()\n",
    "    \n",
    "    with tqdm(enumerate(train_dl)) as t:\n",
    "        for i, (x, y) in t:\n",
    "            x = x.to(device)\n",
    "            y = y.to(device)\n",
    "            \n",
    "            out = model(x)\n",
    "            loss = criterion(out, y)\n",
    "\n",
    "            # backprop and optimizer\n",
    "            model.zero_grad()\n",
    "            loss.backward()\n",
    "            clip_grad_norm_(model.parameters(), 2.0)\n",
    "            optimizer.step()\n",
    "\n",
    "            if (i+1) % 50 == 0:\n",
    "                print('Epoch: [{}/{}], 正在训练：[{}/{}] 个样本'\n",
    "                      .format(epoch+1, epochs, (i+1)*batch_size, len(train_x)))\n",
    "\n",
    "                with torch.no_grad():\n",
    "                    out_ = model(x)\n",
    "                    correct = torch.sum(torch.argmax(out_, dim=1) == y).item()\n",
    "                    print('Val: {:.3f}%'.format(correct/batch_size*100))\n",
    "t.close()"
   ]
  },
  {
   "cell_type": "code",
   "execution_count": 23,
   "metadata": {},
   "outputs": [
    {
     "name": "stdout",
     "output_type": "stream",
     "text": [
      "训练集 Acc: 96.057%\n",
      "验证集 Acc: 91.080%\n"
     ]
    }
   ],
   "source": [
    "'''\n",
    "训练集 Accuracy\n",
    "'''\n",
    "with torch.no_grad():\n",
    "    correct = 0\n",
    "    \n",
    "    for _, (x_, y_) in enumerate(train_dl):\n",
    "        out_ = model(x_.to(device))\n",
    "        correct += torch.sum(torch.argmax(out_, dim=1) == y_.to(device)).item()\n",
    "        \n",
    "    print('训练集 Acc: {:.3f}%'.format(correct / len(train_x) * 100))\n",
    "\n",
    "'''\n",
    "验证集 Accuracy\n",
    "'''\n",
    "with torch.no_grad():\n",
    "    correct = 0\n",
    "    \n",
    "    for _, (x_, y_) in enumerate(val_dl):\n",
    "        out_ = model(x_.to(device))\n",
    "        correct += torch.sum(torch.argmax(out_, dim=1) == y_.to(device)).item()\n",
    "        \n",
    "    print('验证集 Acc: {:.3f}%'.format(correct / len(val_x) * 100))"
   ]
  },
  {
   "cell_type": "code",
   "execution_count": null,
   "metadata": {},
   "outputs": [],
   "source": []
  }
 ],
 "metadata": {
  "kernelspec": {
   "display_name": "Python 3",
   "language": "python",
   "name": "python3"
  },
  "language_info": {
   "codemirror_mode": {
    "name": "ipython",
    "version": 3
   },
   "file_extension": ".py",
   "mimetype": "text/x-python",
   "name": "python",
   "nbconvert_exporter": "python",
   "pygments_lexer": "ipython3",
   "version": "3.6.8"
  }
 },
 "nbformat": 4,
 "nbformat_minor": 2
}
